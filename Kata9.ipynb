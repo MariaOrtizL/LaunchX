{
 "cells": [
  {
   "cell_type": "markdown",
   "metadata": {},
   "source": [
    "# Ejercicio: Uso de funciones en Python"
   ]
  },
  {
   "cell_type": "markdown",
   "metadata": {},
   "source": [
    "Ejercicio 1: Trabajar con argumentos en funciones"
   ]
  },
  {
   "cell_type": "code",
   "execution_count": 49,
   "metadata": {},
   "outputs": [
    {
     "name": "stdout",
     "output_type": "stream",
     "text": [
      "informe: el tanque 1 tiene:   10 \n",
      "         el tanque 2 tiene:   20 \n",
      "         el tanque 3 tiene:   30 \n",
      "         el promedio es:      20.0 \n"
     ]
    }
   ],
   "source": [
    "def nuevo_informe(tanque1, tanque2, tanque3):\n",
    "    promedio = (tanque1 + tanque2 + tanque3)/3\n",
    "    return f'informe: el tanque 1 tiene:   {tanque1} \\n         el tanque 2 tiene:   {tanque2} \\n         el tanque 3 tiene:   {tanque3} \\n         el promedio es:      {promedio} '\n",
    "print(nuevo_informe(10, 20, 30))\n",
    "    "
   ]
  },
  {
   "cell_type": "code",
   "execution_count": 15,
   "metadata": {},
   "outputs": [
    {
     "name": "stdout",
     "output_type": "stream",
     "text": [
      "informe: el tanque 1 tiene:   18 \n",
      "         el tanque 2 tiene:   42 \n",
      "         el tanque 3 tiene:   23 \n",
      "         el promedio es: 27.666666666666668  \n"
     ]
    }
   ],
   "source": [
    "\n",
    "def promediot (total):\n",
    "    resultado = sum(total)/len(total)\n",
    "    return f'     el promedio es: {resultado} '\n",
    " \n",
    "\n",
    "def nuevo_informe(tanque1, tanque2, tanque3):\n",
    "        return f'informe: el tanque 1 tiene:   {tanque1} \\n         el tanque 2 tiene:   {tanque2} \\n         el tanque 3 tiene:   {tanque3} \\n    {promediot([tanque1, tanque2, tanque3])} '\n",
    "\n",
    "print(nuevo_informe(18, 42, 23))\n",
    "\n"
   ]
  },
  {
   "cell_type": "markdown",
   "metadata": {},
   "source": [
    "# Ejercicio 2: Trabajo con argumentos de palabra clave\n",
    "Ejercicio : Trabajar con argumentos de palabras clave en funciones"
   ]
  },
  {
   "cell_type": "code",
   "execution_count": 27,
   "metadata": {},
   "outputs": [
    {
     "name": "stdout",
     "output_type": "stream",
     "text": [
      " El destino es: Marte \n",
      " El total del viaje sera: 37 minutos \n",
      " El combustible es: 900  \n"
     ]
    }
   ],
   "source": [
    "def informe_preciso( hora_prelanzamiento, tiempo_vuelo, destino, tanque_externo, tanque_interno):\n",
    "     return f' El destino es: {destino} \\n El total del viaje sera: {hora_prelanzamiento + tiempo_vuelo} minutos \\n El combustible es: {tanque_externo + tanque_interno}  ' \n",
    "print (informe_preciso(10, 27, 'Marte', 500, 400))"
   ]
  },
  {
   "cell_type": "code",
   "execution_count": 35,
   "metadata": {},
   "outputs": [
    {
     "name": "stdout",
     "output_type": "stream",
     "text": [
      " El destino es: Marte \n",
      " El total del viaje sera: 90 minutos \n",
      " El combustible es: 110  \n"
     ]
    }
   ],
   "source": [
    "def informe_preciso (destino, *minutos, **tanques):\n",
    "    return f' El destino es: {destino} \\n El total del viaje sera: {sum(minutos) } minutos \\n El combustible es: {sum(tanques.values()) }  ' \n",
    "\n",
    "print (informe_preciso( 'Marte', 20, 30, 40, externo = 50, interno = 60))"
   ]
  },
  {
   "cell_type": "code",
   "execution_count": 46,
   "metadata": {},
   "outputs": [
    {
     "name": "stdout",
     "output_type": "stream",
     "text": [
      "El tanque interno tiene 60 \n"
     ]
    }
   ],
   "source": [
    "def informe_preciso (destino, *minutos, **tanques):\n",
    "    informet = f' El destino es: {destino} \\n El total del viaje sera: {sum(minutos) } minutos \\n El combustible es: {sum(tanques.values()) }  ' \n",
    "    for nombret, galones in tanques.items():\n",
    "        informet = f'El tanque {nombret} tiene {galones} '\n",
    "    return informet\n",
    "print (informe_preciso( 'Marte', 20, 30, 40, externo = 50, interno = 60))"
   ]
  }
 ],
 "metadata": {
  "interpreter": {
   "hash": "2be5faf79681da6f2a61fdfdd5405d65d042280f7fba6178067603e3a2925119"
  },
  "kernelspec": {
   "display_name": "Python 3.10.2 64-bit",
   "language": "python",
   "name": "python3"
  },
  "language_info": {
   "codemirror_mode": {
    "name": "ipython",
    "version": 3
   },
   "file_extension": ".py",
   "mimetype": "text/x-python",
   "name": "python",
   "nbconvert_exporter": "python",
   "pygments_lexer": "ipython3",
   "version": "3.10.2"
  },
  "orig_nbformat": 4
 },
 "nbformat": 4,
 "nbformat_minor": 2
}
