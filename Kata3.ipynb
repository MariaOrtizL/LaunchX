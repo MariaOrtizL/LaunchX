{
 "cells": [
  {
   "cell_type": "markdown",
   "metadata": {},
   "source": [
    "Lógica condicional que imprima una advertencia si un asteroide se acerca a la Tierra demasiado rápido. La velocidad del asteroide varía dependiendo de lo cerca que esté del sol, y cualquier velocidad superior a 25 kilómetros por segundo (km/s) merece una advertencia"
   ]
  },
  {
   "cell_type": "code",
   "execution_count": 7,
   "metadata": {},
   "outputs": [
    {
     "name": "stdout",
     "output_type": "stream",
     "text": [
      "un asteroide se acerca a la Tierra demasiado rápido\n"
     ]
    }
   ],
   "source": [
    "vasteroide = 49\n",
    "adve = 25\n",
    "if vasteroide > adve:\n",
    "    print(\"un asteroide se acerca a la Tierra demasiado rápido\")"
   ]
  },
  {
   "cell_type": "code",
   "execution_count": 8,
   "metadata": {},
   "outputs": [],
   "source": [
    "vasteroide = 15\n",
    "adve = 25\n",
    "if vasteroide > adve:\n",
    "    print(\"un asteroide se acerca a la Tierra demasiado rápido\")\n"
   ]
  },
  {
   "cell_type": "markdown",
   "metadata": {},
   "source": [
    "Si un asteroide entra en la atmósfera de la Tierra a una velocidad mayor o igual a 20 km/s, a veces produce un rayo de luz que se puede ver desde la Tierra. Escribe la lógica condicional que usa declaraciones if, else, y elif para alertar a las personas de todo el mundo que deben buscar un asteroide en el cielo. ¡Hay uno que se dirige a la tierra ahora a una velocidad de 19 km/s!"
   ]
  },
  {
   "cell_type": "code",
   "execution_count": 11,
   "metadata": {},
   "outputs": [
    {
     "name": "stdout",
     "output_type": "stream",
     "text": [
      "Es posible que se vea un rayo de luz\n"
     ]
    }
   ],
   "source": [
    "nasteroide = 21\n",
    "asteroie = 20\n",
    "if nasteroide > asteroie:\n",
    "    print(\"Es posible que se vea un rayo de luz\")\n",
    "elif nasteroide == asteroie:\n",
    "    print (\"Se podría ver una luz en el cielo\")\n",
    "else:\n",
    "    print (\"no hay asteroides\") \n"
   ]
  },
  {
   "cell_type": "markdown",
   "metadata": {},
   "source": [
    "Ejercicio: Uso de operadores and y or"
   ]
  },
  {
   "cell_type": "code",
   "execution_count": 42,
   "metadata": {},
   "outputs": [
    {
     "name": "stdout",
     "output_type": "stream",
     "text": [
      "Se puede ver un rayo de luz en el cielo\n"
     ]
    }
   ],
   "source": [
    "diametroast = 2\n",
    "velast = 26\n",
    "if velast > 25 and diametroast > 25:\n",
    "    print (\"Puede causar mucho daño\")\n",
    "elif velast >= 20: \n",
    "    print (\"Se puede ver un rayo de luz en el cielo\")\n",
    "else:\n",
    "    print(\" no hay hasteroides\")\n",
    "    \n",
    "    \n"
   ]
  }
 ],
 "metadata": {
  "interpreter": {
   "hash": "2be5faf79681da6f2a61fdfdd5405d65d042280f7fba6178067603e3a2925119"
  },
  "kernelspec": {
   "display_name": "Python 3.10.2 64-bit",
   "language": "python",
   "name": "python3"
  },
  "language_info": {
   "codemirror_mode": {
    "name": "ipython",
    "version": 3
   },
   "file_extension": ".py",
   "mimetype": "text/x-python",
   "name": "python",
   "nbconvert_exporter": "python",
   "pygments_lexer": "ipython3",
   "version": "3.10.2"
  },
  "orig_nbformat": 4
 },
 "nbformat": 4,
 "nbformat_minor": 2
}
